{
 "cells": [
  {
   "cell_type": "code",
   "execution_count": null,
   "id": "7ab059c2",
   "metadata": {},
   "outputs": [],
   "source": []
  }
 ],
 "metadata": {
  "kernelspec": {
   "display_name": "nlp01_kernel",
   "language": "python",
   "name": "nlp01_venv"
  }
 },
 "nbformat": 4,
 "nbformat_minor": 5
}
